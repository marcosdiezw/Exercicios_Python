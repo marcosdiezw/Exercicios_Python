{
  "nbformat": 4,
  "nbformat_minor": 0,
  "metadata": {
    "colab": {
      "provenance": [],
      "toc_visible": true,
      "collapsed_sections": [],
      "authorship_tag": "ABX9TyM20M2diYml0O0IYBbwUlMd",
      "include_colab_link": true
    },
    "kernelspec": {
      "name": "python3",
      "display_name": "Python 3"
    },
    "language_info": {
      "name": "python"
    }
  },
  "cells": [
    {
      "cell_type": "markdown",
      "metadata": {
        "id": "view-in-github",
        "colab_type": "text"
      },
      "source": [
        "<a href=\"https://colab.research.google.com/github/marcosdiezw/Exercicios_Python/blob/main/Exercicios_Python_MarcosDiezWagner.ipynb\" target=\"_parent\"><img src=\"https://colab.research.google.com/assets/colab-badge.svg\" alt=\"Open In Colab\"/></a>"
      ]
    },
    {
      "cell_type": "markdown",
      "source": [
        "***\n",
        " **<center> <font color=darkblue size=6> EXERCÍCIOS EM PYTHON </font>**\n",
        "***"
      ],
      "metadata": {
        "id": "65lNpIvGoxsB"
      }
    },
    {
      "cell_type": "markdown",
      "source": [
        "#### **Desafio 1:**  \n",
        "\n",
        "Escreva um programa em Python para contabilizar a quantidade de ocorrências de cada palavra."
      ],
      "metadata": {
        "id": "Z2YNnGgUoxVT"
      }
    },
    {
      "cell_type": "code",
      "source": [
        "palavras = [\n",
        "   'red', 'green', 'black', 'pink', 'black', 'white', 'black', 'eyes', 'white', 'black', 'orange', 'pink', 'pink',\n",
        "   'red', 'red', 'white', 'orange', 'white', \"black\", 'pink', 'green', 'green', 'pink', 'green', 'pink', 'white',\n",
        "   'orange',\"orange\", 'red'\n",
        "    ]\n",
        "\n",
        "for palavra in palavras:               #Fazemos um for para que por cada palavra na lista\n",
        "  vezes = palavras.count(palavra)      # conte quantas vezes está\n",
        "  dicio[palavra] = vezes               # e salve em um dicionário o par (palavra : vezes que está)\n",
        "\n",
        "for chave, valor in dicio.items():     # Com outro for, vamos imprimindo os pares.\n",
        "    print(f'{chave} tem {valor} ocorrências')   # Escrevemos {chave} e {valor} só para destacar que são os dois elementos\n",
        "                                                # do dicionário. Mas poderiamos ter escrito {palavra} e {vezes}\n",
        "  "
      ],
      "metadata": {
        "colab": {
          "base_uri": "https://localhost:8080/"
        },
        "id": "Iev5NEeZokzY",
        "outputId": "b1d9ef34-2f44-4e13-b2b8-31d1117838d0"
      },
      "execution_count": null,
      "outputs": [
        {
          "output_type": "stream",
          "name": "stdout",
          "text": [
            "red tem 4 ocorrências\n",
            "green tem 4 ocorrências\n",
            "black tem 5 ocorrências\n",
            "pink tem 6 ocorrências\n",
            "white tem 5 ocorrências\n",
            "eyes tem 1 ocorrências\n",
            "orange tem 4 ocorrências\n"
          ]
        }
      ]
    },
    {
      "cell_type": "markdown",
      "source": [
        "#### **Desafio 2:**\n",
        "\n",
        "Escreva uma função que receba um número inteiro de horas e converta esse número para segundos.\n",
        "\n",
        "Exemplo:\n",
        "\n",
        "convert(5) ➞ 18000\n",
        "\n",
        "convert(3) ➞ 10800\n",
        "\n",
        "convert(2) ➞ 7200"
      ],
      "metadata": {
        "id": "sEDWIOkpzDKL"
      }
    },
    {
      "cell_type": "code",
      "source": [
        "def convert(horas):\n",
        "  ''' Receives number of hours and returns them in number of seconds.'''   #Docstring\n",
        "    segundos = horas*3600   #Para calcular quantidade de segundos, multiplica as horas recebidas por 3600.\n",
        "    return(segundos)\n",
        "    print(segundos)"
      ],
      "metadata": {
        "id": "1LGr-_l9zNbY"
      },
      "execution_count": null,
      "outputs": []
    },
    {
      "cell_type": "code",
      "source": [
        "print(convert(5))\n",
        "print(convert(3))\n",
        "print(convert(2))"
      ],
      "metadata": {
        "colab": {
          "base_uri": "https://localhost:8080/"
        },
        "id": "260Dy2em1LRn",
        "outputId": "b4eb6ea6-6077-4c63-fb83-d45ec73a9ca5"
      },
      "execution_count": null,
      "outputs": [
        {
          "output_type": "stream",
          "name": "stdout",
          "text": [
            "18000\n",
            "10800\n",
            "7200\n"
          ]
        }
      ]
    },
    {
      "cell_type": "markdown",
      "source": [
        "#### **Desafio 3:** <br>\n",
        "Escreva uma função que receba uma lista como entrada e retorne uma nova lista ordenada e sem valores duplicados."
      ],
      "metadata": {
        "id": "eNBAJEnl4fFI"
      }
    },
    {
      "cell_type": "code",
      "source": [
        "lista1 = [1,2,3,4,3,30,3,4,5,6,9,3,2,1,2,4,5,15,6,6,3,13,4,45,5]\n",
        "\n",
        "def ajeitador(lista):\n",
        "  ''' Receives a list, removes repeated values, and sorts them in increasing order. '''\n",
        "  lista_set = set(lista)  #Converte lista em set, e assim tira os valores repetidos.\n",
        "  lista = list(lista_set) # Converte este set novamente em lista (pois um set não possui ordem).\n",
        "  lista.sort()            # Ordena la lista, de forma crescente.\n",
        "  return(lista)\n",
        "  print(lista)"
      ],
      "metadata": {
        "id": "CcyeBIMr4mUy"
      },
      "execution_count": null,
      "outputs": []
    },
    {
      "cell_type": "code",
      "source": [
        "ajeitador(lista1)"
      ],
      "metadata": {
        "colab": {
          "base_uri": "https://localhost:8080/"
        },
        "id": "8NaB-hlt4vXf",
        "outputId": "d2dfb3c2-3f9b-44ee-9446-ad71af4fe56d"
      },
      "execution_count": null,
      "outputs": [
        {
          "output_type": "execute_result",
          "data": {
            "text/plain": [
              "[1, 2, 3, 4, 5, 6, 9, 13, 15, 30, 45]"
            ]
          },
          "metadata": {},
          "execution_count": 44
        }
      ]
    },
    {
      "cell_type": "markdown",
      "source": [
        "#### **Desafio 4:**\n",
        "\n",
        "Escreva uma função cuja entrada é uma string e a saída é outra string com as palavras em ordem inversa.\n",
        "\n",
        "Exemplo:\n",
        "\n",
        "inverte_texto(\"Python é legal\") ➞ \"legal é Python\""
      ],
      "metadata": {
        "id": "wjZ20q9c62-e"
      }
    },
    {
      "cell_type": "code",
      "execution_count": 9,
      "metadata": {
        "id": "0udSBn36y_L_"
      },
      "outputs": [],
      "source": [
        "def inverte_texto(string):\n",
        "  '''Receives a text and returns it with the word order reversed.'''\n",
        "  string = string.split()   # O método split converte uma string em uma lista cujos elementos são\n",
        "                            # cada uma das palavras separadas por espaços.\n",
        "  string.reverse()          # O reverse inverte a ordem dos elementos da lista.\n",
        "  invertida = ' '.join(string)  # O join converte a lista em uma string, com os elementos separados pelo indicador (no caso, espaço ' ')\n",
        "  print(invertida)\n",
        "  return invertida"
      ]
    },
    {
      "cell_type": "code",
      "source": [
        "inverte_texto(\"Python é legal\")"
      ],
      "metadata": {
        "colab": {
          "base_uri": "https://localhost:8080/",
          "height": 53
        },
        "id": "Rngthc0D0hKY",
        "outputId": "037ae580-34d3-4d76-e64e-4a554b22d08e"
      },
      "execution_count": 10,
      "outputs": [
        {
          "output_type": "stream",
          "name": "stdout",
          "text": [
            "legal é Python\n"
          ]
        },
        {
          "output_type": "execute_result",
          "data": {
            "text/plain": [
              "'legal é Python'"
            ],
            "application/vnd.google.colaboratory.intrinsic+json": {
              "type": "string"
            }
          },
          "metadata": {},
          "execution_count": 10
        }
      ]
    },
    {
      "cell_type": "markdown",
      "source": [
        "#### **Desafio 5:** <br>\n",
        "Você trabalha em uma loja de sapatos e deve contatar uma série de clientes. Seus números de telefone estão na lista abaixo. No entanto, é possível notar números duplicados na lista dada. Você seria capaz de remover estes duplicados para evitar que clientes sejam contatados mais de uma vez?"
      ],
      "metadata": {
        "id": "rZQLNk8A9jFp"
      }
    },
    {
      "cell_type": "code",
      "source": [
        "numeros_telefone = [\n",
        "'(765) 368-1506',\n",
        "'(285) 608-2448',\n",
        "'(255) 826-9050',\n",
        "'(554) 994-1517',\n",
        "'(285) 608-2448',\n",
        "'(596) 336-5508',\n",
        "'(511) 821-7870',\n",
        "'(410) 665-4447',\n",
        "'(821) 642-8987',\n",
        "'(285) 608-2448',\n",
        "'(311) 799-3883',\n",
        "'(935) 875-2054',\n",
        "'(464) 788-2397',\n",
        "'(765) 368-1506',\n",
        "'(650) 684-1437',\n",
        "'(812) 816-0881',\n",
        "'(285) 608-2448',\n",
        "'(885) 407-1719',\n",
        "'(943) 769-1061',\n",
        "'(596) 336-5508',\n",
        "'(765) 368-1506',\n",
        "'(255) 826-9050',\n",
        "]\n",
        "numeros_unicos = dict.fromkeys(numeros_telefone) # Com o método dict.fromkeys tiramos os valores duplicados na lista\n",
        "                                                 # convertendo em um dicionário, mas sem alterar a ordem.\n",
        "numeros_unicos = list(numeros_unicos)  # Com a função list convertemos esse dicionário novamente em uma lista.\n",
        "for x in numeros_unicos:  #Utilizamos o for para fazer a impressão na ordem vertical.\n",
        "  print(x)"
      ],
      "metadata": {
        "colab": {
          "base_uri": "https://localhost:8080/"
        },
        "id": "G2CFiG8u8zkB",
        "outputId": "2eae57d0-1237-40f4-a5b6-7a590ef5af7b"
      },
      "execution_count": null,
      "outputs": [
        {
          "output_type": "stream",
          "name": "stdout",
          "text": [
            "(765) 368-1506\n",
            "(285) 608-2448\n",
            "(255) 826-9050\n",
            "(554) 994-1517\n",
            "(596) 336-5508\n",
            "(511) 821-7870\n",
            "(410) 665-4447\n",
            "(821) 642-8987\n",
            "(311) 799-3883\n",
            "(935) 875-2054\n",
            "(464) 788-2397\n",
            "(650) 684-1437\n",
            "(812) 816-0881\n",
            "(885) 407-1719\n",
            "(943) 769-1061\n"
          ]
        }
      ]
    },
    {
      "cell_type": "markdown",
      "source": [
        "#### **Desafio 6:** <br>\n",
        "\n",
        "Crie uma função que receba duas listas e retorne uma lista que contenha apenas os elementos comuns entre as listas (sem repetição). A função deve suportar lista de tamanhos diferentes."
      ],
      "metadata": {
        "id": "hfVeDcUOBGSH"
      }
    },
    {
      "cell_type": "code",
      "source": [
        "a = [1, 1, 2, 3, 5, 8, 13, 21, 34, 55, 89]\n",
        "b = [1, 2, 3, 4, 5, 6, 7, 8, 9, 10, 11, 12, 13]\n",
        "\n",
        "def comb_listas(list1,list2):\n",
        "  list3 = []\n",
        "  for x in list1:     # Com esse duplo for conferimos se as listas tem elementos comúns.\n",
        "    for y in list2:   \n",
        "      if x==y:\n",
        "        list3.append(y)  #Se um elemento é comúm às duas listas, agregamos ele em uma terceira lista.\n",
        "      else: None\n",
        "  list3 = set(list3)  # Convertemos a lista em um set para remover os elentos repetidos\n",
        "  list3 = list(list3) # Convertemos em lista novamente para poder ordenar.\n",
        "  list3.sort()\n",
        "  print(list3)"
      ],
      "metadata": {
        "id": "-17N77M5C0st"
      },
      "execution_count": null,
      "outputs": []
    },
    {
      "cell_type": "code",
      "source": [
        "comb_listas(a,b)"
      ],
      "metadata": {
        "colab": {
          "base_uri": "https://localhost:8080/"
        },
        "id": "C5Vgu8LvFoO-",
        "outputId": "abeebb69-131c-4053-f1c4-b8ec09039c71"
      },
      "execution_count": null,
      "outputs": [
        {
          "output_type": "stream",
          "name": "stdout",
          "text": [
            "[1, 2, 3, 5, 8, 13]\n"
          ]
        }
      ]
    },
    {
      "cell_type": "markdown",
      "source": [
        "#### **Desafio 7:**\n",
        "Um professor de universidade tem uma turma com os seguintes números de telefones:                 "
      ],
      "metadata": {
        "id": "JROkxROwu8Au"
      }
    },
    {
      "cell_type": "code",
      "source": [
        "telefones_alunos = ['(873) 810-8267', '(633) 244-7325', '(300) 303-5462', \n",
        "                    '(938) 300-8890', '(429) 264-7427', '(737) 805-2326', \n",
        "                    '(768) 956-8497', '(941) 225-3869', '(203) 606-9463', \n",
        "                    '(294) 430-7720', '(896) 781-5087', '(397) 845-8267', \n",
        "                    '(788) 717-6858', '(419) 734-4188', '(682) 595-3278', \n",
        "                    '(835) 955-1498', '(296) 415-9944', '(897) 932-2512', \n",
        "                    '(263) 415-3893', '(822) 640-8496', '(640) 427-2597', \n",
        "                    '(856) 338-7094', '(807) 554-4076', '(641) 367-5279', \n",
        "                    '(828) 866-0696', '(727) 376-5749', '(921) 948-2244', \n",
        "                    '(964) 710-9625', '(596) 685-1242', '(403) 343-7705', \n",
        "                    '(227) 389-3685', '(264) 372-7298', '(797) 649-3653', \n",
        "                    '(374) 361-3844', '(618) 490-4228', '(987) 803-5550', \n",
        "                    '(228) 976-9699', '(757) 450-9985', '(491) 666-5367',\n",
        "                    ]\n",
        "\n",
        "''' Ele criou um grupo do WhatsApp. No entanto, somente os seguintes números entraram no grupo. '''\n",
        "\n",
        "entraram_no_grupo = ['(596) 685-1242', '(727) 376-5749', '(987) 803-5550', \n",
        "                     '(633) 244-7325', '(828) 866-0696', '(263) 415-3893', \n",
        "                     '(203) 606-9463', '(296) 415-9944', '(419) 734-4188', \n",
        "                     '(618) 490-4228', '(682) 595-3278', '(938) 300-8890', \n",
        "                     '(264) 372-7298', '(768) 956-8497', '(737) 805-2326', \n",
        "                     '(788) 717-6858', '(228) 976-9699', '(896) 781-5087',\n",
        "                     '(374) 361-3844', '(921) 948-2244', '(807) 554-4076', \n",
        "                     '(822) 640-8496', '(227) 389-3685', '(429) 264-7427', \n",
        "                     '(397) 845-8267']\n",
        "\n",
        "# Você seria capaz de criar uma lista dos alunos que ainda não entraram no grupo\n",
        "# para que sejam contatados individualmente?"
      ],
      "metadata": {
        "id": "erLIOMKXHbQP"
      },
      "execution_count": 11,
      "outputs": []
    },
    {
      "cell_type": "code",
      "source": [
        "ainda_nao_entraram = []  #Criamos uma lista vazia para os que ainda não entraram.\n",
        "for x in telefones_alunos:  #Comparamos os números que estão\n",
        "      if x not in entraram_no_grupo: # na lista inicial mas não na dos que entraram e\n",
        "        ainda_nao_entraram.append(x) # aqueles que não estão na última, sáo colocados\n",
        "      else: None                     # na lista \"ainda_nao_entraram\"\n",
        "for tel in ainda_nao_entraram:\n",
        "    print(tel)                       #Imprimimos verticalmente."
      ],
      "metadata": {
        "colab": {
          "base_uri": "https://localhost:8080/"
        },
        "id": "hqnB2wG0wjH8",
        "outputId": "412dc64d-7f7a-4079-93f1-c1c2d53839c0"
      },
      "execution_count": 12,
      "outputs": [
        {
          "output_type": "stream",
          "name": "stdout",
          "text": [
            "(873) 810-8267\n",
            "(300) 303-5462\n",
            "(941) 225-3869\n",
            "(294) 430-7720\n",
            "(835) 955-1498\n",
            "(897) 932-2512\n",
            "(640) 427-2597\n",
            "(856) 338-7094\n",
            "(641) 367-5279\n",
            "(964) 710-9625\n",
            "(403) 343-7705\n",
            "(797) 649-3653\n",
            "(757) 450-9985\n",
            "(491) 666-5367\n"
          ]
        }
      ]
    },
    {
      "cell_type": "markdown",
      "source": [
        "#### **Desafio 8:**\n",
        "Escreva um script Python para encontrar as 10 palavras mais longas em um arquivo de texto. O arquivo .txt está localizado na mesma pasta do projeto (texto.txt)."
      ],
      "metadata": {
        "id": "Dkl-hcNxwNrC"
      }
    },
    {
      "cell_type": "code",
      "source": [
        "with open('texto.txt', 'r', encoding='UTF-8' ) as arquivo:\n",
        "  texto = arquivo.read().replace('-',' ').replace('!','').replace('?','').replace('.',' ').replace(')','').replace('(','').replace(',',' ')\n",
        "  conjunto = texto.split() # Lista conjunto de todas as palavras\n",
        "        \n",
        "letra_palavra = {}    # Criamos um dicionário com as palavras e suas respetivas quant. de letras.\n",
        "for palavra in conjunto:\n",
        "  letra_palavra[palavra]=len(palavra) # Preenchemos o dicionário com cada palavra e q. de letras.\n",
        "cont1 = 0    # Utilizaremos 3 contadores\n",
        "cont2 = 0\n",
        "cont3 = 0\n",
        "\n",
        "maxletras = max(letra_palavra.values())  # Calculamos a quantidade letras da palavra mais comprida.\n",
        "while cont3 < 10:\n",
        "  cont1 = 0\n",
        "  cont2 = 0\n",
        "  for palavra,letras in letra_palavra.items():\n",
        "      if letras == maxletras:   \n",
        "        print(palavra,letras)\n",
        "        cont1 = cont1 + 1\n",
        "        cont3 = cont3 + 1\n",
        "        if cont3 == 10:\n",
        "          break\n",
        "      else: cont2 = cont2 + 1\n",
        "  if cont1 + cont2 == len(letra_palavra):\n",
        "        maxletras = maxletras - 1"
      ],
      "metadata": {
        "colab": {
          "base_uri": "https://localhost:8080/"
        },
        "id": "hZxXIocHm2X5",
        "outputId": "73f89f48-a00d-417a-8a30-457b5386ac2a"
      },
      "execution_count": null,
      "outputs": [
        {
          "output_type": "stream",
          "name": "stdout",
          "text": [
            "comprehensive 13\n",
            "intermediate 12\n",
            "interpreted 11\n",
            "programming 11\n",
            "readability 11\n",
            "programmers 11\n",
            "philosophy 10\n",
            "emphasizes 10\n",
            "imperative 10\n",
            "functional 10\n"
          ]
        }
      ]
    },
    {
      "cell_type": "markdown",
      "source": [
        "#### **Desafio 9:**\n",
        "Escreva uma função que retorne a soma dos múltiplos de 3 e 5 entre 0 e um número limite, que vai ser utilizado como parâmetro. Por exemplo, se o limite for 20, ele retornará a soma de 3, 5, 6, 9, 10, 12, 15, 18, 20."
      ],
      "metadata": {
        "id": "OcUQ1HMZtIeq"
      }
    },
    {
      "cell_type": "code",
      "source": [
        "def func(limite):\n",
        "  soma = 0\n",
        "  for h in range(0,limite+1):  # No extremo superior escrevemos limite+1 para o valor\n",
        "    if h%3==0 or h%5==0:       # ficar incluso também.\n",
        "      soma = soma + h\n",
        "  print(soma)"
      ],
      "metadata": {
        "id": "W_OrrxIszwye"
      },
      "execution_count": null,
      "outputs": []
    },
    {
      "cell_type": "code",
      "source": [
        "func(20)"
      ],
      "metadata": {
        "colab": {
          "base_uri": "https://localhost:8080/"
        },
        "id": "AZhOQaFnqJ6r",
        "outputId": "39d8b51b-968a-4068-a8ad-847a043e2207"
      },
      "execution_count": null,
      "outputs": [
        {
          "output_type": "stream",
          "name": "stdout",
          "text": [
            "98\n"
          ]
        }
      ]
    },
    {
      "cell_type": "markdown",
      "source": [
        "#### **Desafio 10:**\n",
        "\n",
        "Dada uma lista, divida-a em 3 partes iguais e reverta a ordem de cada lista.\n",
        "\n",
        "Exemplo:\n",
        "\n",
        "Entrada: \\ sampleList = [11, 45, 8, 23, 14, 12, 78, 45, 89]\n",
        "\n",
        "Saída: \\ Parte 1 [8, 45, 11] \\ Parte 2 [12, 14, 23] \\ Parte 3 [89, 45, 78]"
      ],
      "metadata": {
        "id": "8loLL3BGwxVW"
      }
    },
    {
      "cell_type": "code",
      "source": [
        "def divisor_listas(listai):\n",
        "  ''' Receives a list, divides it into three parts with the elements in reverse order. '''\n",
        "  lista1 = [] # Criamos três listas vazias.\n",
        "  lista2 = []\n",
        "  lista3 = []\n",
        "  if (len(listai))%3 == 0:\n",
        "    qpartes = len(listai)/3  # Ca\n",
        "    for a in listai:\n",
        "      if len(lista1)<qpartes:\n",
        "        lista1.append(a)\n",
        "      elif len(lista2)<qpartes:\n",
        "        lista2.append(a)\n",
        "      elif len(lista3)<qpartes:\n",
        "        lista3.append(a)\n",
        "    lista1 = reversed(lista1)\n",
        "    lista2 = reversed(lista2)\n",
        "    lista3 = reversed(lista3)\n",
        "    print(list(lista1), list(lista2), list(lista3))\n",
        "  else:\n",
        "    print('A lista não tem uma quantidade de elementos múltiplo de 3,',\n",
        "        '\\n e por isso, não pode ser dividida em 3 partes de igual tamanho')"
      ],
      "metadata": {
        "id": "JrcI9zSyrqZA"
      },
      "execution_count": null,
      "outputs": []
    },
    {
      "cell_type": "code",
      "source": [
        "sampleList = [11, 45, 8, 23, 14, 12, 78, 45, 89]\n",
        "divisor_listas(sampleList)"
      ],
      "metadata": {
        "colab": {
          "base_uri": "https://localhost:8080/"
        },
        "id": "f27DEkfbumYo",
        "outputId": "960ea708-491c-41a4-dd91-e132ef806b63"
      },
      "execution_count": null,
      "outputs": [
        {
          "output_type": "stream",
          "name": "stdout",
          "text": [
            "A lista não tem uma quantidade de elementos múltiplo de 3, \n",
            " e por isso, não pode ser dividida em 3 partes de igual tamanho\n"
          ]
        }
      ]
    },
    {
      "cell_type": "markdown",
      "source": [
        "#### **Desafio 11:**\n",
        "\n",
        "Dados uma sequência com n números inteiros, determinar quantos números da sequência são pares e quantos são ímpares.\\ Por exemplo, para a sequência\n",
        "\n",
        "6   2   7  -5   8  -4\n",
        "\n",
        "a sua função deve retornar o número 4 para o número de pares e 2 para o de ímpares.\\ A saída deve ser um tupla contendo primeiramente o número de pares e em seguida o número de ímpares.\\ Para o exemplo anterior, a saída seria (4, 2)."
      ],
      "metadata": {
        "id": "NTqAmpMfbLPU"
      }
    },
    {
      "cell_type": "code",
      "source": [
        "def sinalizador(lista):\n",
        "  pares = 0\n",
        "  impares = 0\n",
        "  for n in lista:\n",
        "    if n%2 == 0:\n",
        "      pares = pares+1\n",
        "    else:\n",
        "      impares = impares + 1\n",
        "  tupla = (pares,impares)\n",
        "  print(tupla)"
      ],
      "metadata": {
        "id": "idKKevMbbYv_"
      },
      "execution_count": null,
      "outputs": []
    },
    {
      "cell_type": "code",
      "source": [
        "exemplo = [2,-4,0,-7]\n",
        "sinalizador(exemplo)"
      ],
      "metadata": {
        "colab": {
          "base_uri": "https://localhost:8080/"
        },
        "id": "J_3sicIqcaBB",
        "outputId": "81d7bea7-da0f-42db-e6de-f5f6ecb364e4"
      },
      "execution_count": null,
      "outputs": [
        {
          "output_type": "stream",
          "name": "stdout",
          "text": [
            "(3, 1)\n"
          ]
        }
      ]
    },
    {
      "cell_type": "markdown",
      "source": [
        "#### **Desafio 12** \n",
        "\n",
        "Escreva uma função em Python para verificar a validade de uma senha.\n",
        "\n",
        "A senha deve ter:\n",
        "\n",
        "Pelo menos 1 letra entre [a-z] e 1 letra entre [A-Z].\n",
        "Pelo menos 1 número entre [0-9].\n",
        "Pelo menos 1 caractere de [$ # @].\n",
        "Comprimento mínimo de 6 caracteres.\n",
        "Comprimento máximo de 16 caracteres.\n",
        "Entradas: \"12345678\", \"J3sus0\", \"#Te5t300\", \"J*90j12374\", \"Michheeul\", \"Monk3y6\"\n",
        "\n",
        "A saída deve ser a senha e um texto indicando se a senha é válida ou inválida:\n",
        "\n",
        "\"1234\" - Senha inválida\n",
        "\"Qw#1234\" - Senha válida"
      ],
      "metadata": {
        "id": "Q_RdQ_-9dTdF"
      }
    },
    {
      "cell_type": "code",
      "source": [
        "def validar(senha):\n",
        "            \n",
        "    if len(senha) < 6:\n",
        "        print('Comprimento mínimo deve ser 6 caracteres')\n",
        "        return False\n",
        "          \n",
        "    if len(senha) > 16:\n",
        "        print('Comprimento não deve ser maior do que 16 caracteres')\n",
        "        return False\n",
        "          \n",
        "    if not any(char.isdigit() for char in senha):\n",
        "        print('Senha deve possuir pelo menos um número')\n",
        "        return False\n",
        "          \n",
        "    if not any(char.isupper() for char in senha):\n",
        "        print('Senha deve ter pelo menos uma maiúscula')\n",
        "        return False\n",
        "          \n",
        "    if not any(char.islower() for char in senha):\n",
        "        print('Senha deve ter pelo menos uma minúscula')\n",
        "        return False\n",
        "          \n",
        "    if not any(char in ['$', '@', '#'] for char in senha):\n",
        "        print('Senha deve ter pelo menos um dos símbolos: $@#')\n",
        "        return False\n",
        "    \n",
        "    print(\"Senha válida!\")\n",
        "    return True"
      ],
      "metadata": {
        "id": "jUblr7MudcQl"
      },
      "execution_count": 6,
      "outputs": []
    },
    {
      "cell_type": "code",
      "source": [
        "entradas = ['12345678', 'J3sus0', '#Te5t300', 'J*90j12374', 'Michheeul', 'Monk3y6', '1234', 'Qw#1234']"
      ],
      "metadata": {
        "id": "om8QvkQzKJWX"
      },
      "execution_count": 7,
      "outputs": []
    },
    {
      "cell_type": "code",
      "source": [
        "for senha in entradas:\n",
        "    validar(senha)"
      ],
      "metadata": {
        "id": "TShXZlVKKU8L",
        "colab": {
          "base_uri": "https://localhost:8080/"
        },
        "outputId": "16a7a23e-1baa-4ba5-bfb9-95f2d652646f"
      },
      "execution_count": 8,
      "outputs": [
        {
          "output_type": "stream",
          "name": "stdout",
          "text": [
            "Senha deve ter pelo menos uma maiúscula\n",
            "Senha deve ter pelo menos um dos símbolos: $@#\n",
            "Senha válida!\n",
            "Senha deve ter pelo menos um dos símbolos: $@#\n",
            "Senha deve possuir pelo menos um número\n",
            "Senha deve ter pelo menos um dos símbolos: $@#\n",
            "Comprimento mínimo deve ser 6 caracteres\n",
            "Senha válida!\n"
          ]
        }
      ]
    }
  ]
}